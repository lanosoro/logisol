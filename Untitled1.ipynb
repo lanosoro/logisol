{
  "nbformat": 4,
  "nbformat_minor": 0,
  "metadata": {
    "colab": {
      "name": "Untitled1.ipynb",
      "provenance": [],
      "collapsed_sections": [],
      "authorship_tag": "ABX9TyPDnnawHarb72mWGf09t2pR",
      "include_colab_link": true
    },
    "kernelspec": {
      "name": "python3",
      "display_name": "Python 3"
    },
    "language_info": {
      "name": "python"
    }
  },
  "cells": [
    {
      "cell_type": "markdown",
      "metadata": {
        "id": "view-in-github",
        "colab_type": "text"
      },
      "source": [
        "<a href=\"https://colab.research.google.com/github/lanosoro/logisol/blob/master/Untitled1.ipynb\" target=\"_parent\"><img src=\"https://colab.research.google.com/assets/colab-badge.svg\" alt=\"Open In Colab\"/></a>"
      ]
    },
    {
      "cell_type": "code",
      "metadata": {
        "id": "_DjNhGZ6viD8",
        "colab": {
          "base_uri": "https://localhost:8080/",
          "height": 393
        },
        "outputId": "26b90898-6791-45ca-b277-d3dbace75ec5"
      },
      "source": [
        ""
      ],
      "execution_count": null,
      "outputs": [
        {
          "output_type": "error",
          "ename": "ModuleNotFoundError",
          "evalue": "ignored",
          "traceback": [
            "\u001b[0;31m---------------------------------------------------------------------------\u001b[0m",
            "\u001b[0;31mModuleNotFoundError\u001b[0m                       Traceback (most recent call last)",
            "\u001b[0;32m<ipython-input-1-72828dfd9ee0>\u001b[0m in \u001b[0;36m<module>\u001b[0;34m()\u001b[0m\n\u001b[0;32m----> 1\u001b[0;31m \u001b[0;32mfrom\u001b[0m \u001b[0mpyspark\u001b[0m\u001b[0;34m.\u001b[0m\u001b[0mconf\u001b[0m \u001b[0;32mimport\u001b[0m \u001b[0mSparkConf\u001b[0m\u001b[0;34m\u001b[0m\u001b[0;34m\u001b[0m\u001b[0m\n\u001b[0m\u001b[1;32m      2\u001b[0m \u001b[0;32mfrom\u001b[0m \u001b[0mpyspark\u001b[0m \u001b[0;32mimport\u001b[0m \u001b[0mSparkContext\u001b[0m\u001b[0;34m\u001b[0m\u001b[0;34m\u001b[0m\u001b[0m\n\u001b[1;32m      3\u001b[0m \u001b[0;32mfrom\u001b[0m \u001b[0mpyspark\u001b[0m\u001b[0;34m.\u001b[0m\u001b[0msql\u001b[0m \u001b[0;32mimport\u001b[0m \u001b[0mSQLContext\u001b[0m\u001b[0;34m\u001b[0m\u001b[0;34m\u001b[0m\u001b[0m\n\u001b[1;32m      4\u001b[0m \u001b[0;34m\u001b[0m\u001b[0m\n\u001b[1;32m      5\u001b[0m \u001b[0msc\u001b[0m \u001b[0;34m=\u001b[0m \u001b[0mSparkContext\u001b[0m\u001b[0;34m(\u001b[0m\u001b[0;34m)\u001b[0m\u001b[0;34m\u001b[0m\u001b[0;34m\u001b[0m\u001b[0m\n",
            "\u001b[0;31mModuleNotFoundError\u001b[0m: No module named 'pyspark'",
            "",
            "\u001b[0;31m---------------------------------------------------------------------------\u001b[0;32m\nNOTE: If your import is failing due to a missing package, you can\nmanually install dependencies using either !pip or !apt.\n\nTo view examples of installing some common dependencies, click the\n\"Open Examples\" button below.\n\u001b[0;31m---------------------------------------------------------------------------\u001b[0m\n"
          ]
        }
      ]
    },
    {
      "cell_type": "code",
      "metadata": {
        "colab": {
          "base_uri": "https://localhost:8080/"
        },
        "id": "UWlUqZ4WeLFf",
        "outputId": "25e370ec-8416-4db2-e5a0-3d09f10b6014"
      },
      "source": [
        "pip install pyspark"
      ],
      "execution_count": null,
      "outputs": [
        {
          "output_type": "stream",
          "text": [
            "Collecting pyspark\n",
            "\u001b[?25l  Downloading https://files.pythonhosted.org/packages/45/b0/9d6860891ab14a39d4bddf80ba26ce51c2f9dc4805e5c6978ac0472c120a/pyspark-3.1.1.tar.gz (212.3MB)\n",
            "\u001b[K     |████████████████████████████████| 212.3MB 68kB/s \n",
            "\u001b[?25hCollecting py4j==0.10.9\n",
            "\u001b[?25l  Downloading https://files.pythonhosted.org/packages/9e/b6/6a4fb90cd235dc8e265a6a2067f2a2c99f0d91787f06aca4bcf7c23f3f80/py4j-0.10.9-py2.py3-none-any.whl (198kB)\n",
            "\u001b[K     |████████████████████████████████| 204kB 47.1MB/s \n",
            "\u001b[?25hBuilding wheels for collected packages: pyspark\n",
            "  Building wheel for pyspark (setup.py) ... \u001b[?25l\u001b[?25hdone\n",
            "  Created wheel for pyspark: filename=pyspark-3.1.1-py2.py3-none-any.whl size=212767604 sha256=ce0cefb381866385d2f4ada2a5e4db889373ed01a4a2951fdfbf819f4db1a09a\n",
            "  Stored in directory: /root/.cache/pip/wheels/0b/90/c0/01de724414ef122bd05f056541fb6a0ecf47c7ca655f8b3c0f\n",
            "Successfully built pyspark\n",
            "Installing collected packages: py4j, pyspark\n",
            "Successfully installed py4j-0.10.9 pyspark-3.1.1\n"
          ],
          "name": "stdout"
        }
      ]
    },
    {
      "cell_type": "code",
      "metadata": {
        "id": "lJFV2heBd7Rv"
      },
      "source": [
        "from pyspark.conf import SparkConf\n",
        "from pyspark import SparkContext\n",
        "from pyspark.sql import SQLContext\n",
        "\n",
        "sc = SparkContext() \n",
        "config = sc.getConf()\n",
        "config.set('spark.cores.max','4')\n",
        "config.set('spark.executor.memory', '8G')\n",
        "config.set('spark.driver.maxResultSize', '8g')\n",
        "config.set('spark.kryoserializer.buffer.max', '512m')\n",
        "config.set(\"spark.driver.cores\", \"4\")\n",
        "\n",
        "sc.stop()\n"
      ],
      "execution_count": null,
      "outputs": []
    },
    {
      "cell_type": "code",
      "metadata": {
        "colab": {
          "base_uri": "https://localhost:8080/"
        },
        "id": "4xvCb_Pdfdak",
        "outputId": "23cf165e-6316-44b3-a7ce-a99ac1929f54"
      },
      "source": [
        "sc = SparkContext(conf = config) \n",
        "sqlContext = SQLContext(sc)\n",
        "print(\"Using Apache Spark Version\", sc.version)"
      ],
      "execution_count": 4,
      "outputs": [
        {
          "output_type": "stream",
          "text": [
            "Using Apache Spark Version 3.1.1\n"
          ],
          "name": "stdout"
        }
      ]
    },
    {
      "cell_type": "code",
      "metadata": {
        "id": "5x6FnMJvfing"
      },
      "source": [
        "cb_file = \"/content/crunchbase_odm_orgs.csv\""
      ],
      "execution_count": 20,
      "outputs": []
    },
    {
      "cell_type": "code",
      "metadata": {
        "colab": {
          "base_uri": "https://localhost:8080/"
        },
        "id": "ldqcQZLGobiD",
        "outputId": "8667fe65-8354-4636-8fb0-27cfb24d6dd4"
      },
      "source": [
        "cb_sdf = sqlContext.read.option(\"header\", \"true\").option(\"delimiter\", \",\").option(\"inferSchema\", \"true\").csv(cb_file)\n",
        "cb_sdf.count()\n"
      ],
      "execution_count": 32,
      "outputs": [
        {
          "output_type": "execute_result",
          "data": {
            "text/plain": [
              "14337"
            ]
          },
          "metadata": {
            "tags": []
          },
          "execution_count": 32
        }
      ]
    },
    {
      "cell_type": "code",
      "metadata": {
        "colab": {
          "base_uri": "https://localhost:8080/"
        },
        "id": "mzZagrh9w17v",
        "outputId": "db9ca4cb-a932-44c6-9e7a-8bceedb5760d"
      },
      "source": [
        "cb_sdf.columns\n"
      ],
      "execution_count": 37,
      "outputs": [
        {
          "output_type": "execute_result",
          "data": {
            "text/plain": [
              "['uuid,name,type,primary_role,cb_url,domain,homepage_url,logo_url,facebook_url,twitter_url,linkedin_url,combined_stock_symbols,city,region,country_code,short_description']"
            ]
          },
          "metadata": {
            "tags": []
          },
          "execution_count": 37
        }
      ]
    },
    {
      "cell_type": "code",
      "metadata": {
        "id": "GGCyF_OCFEg0"
      },
      "source": [
        "from pyspark.sql import SparkSession\n",
        "import pyspark.sql.functions as F\n",
        "import pyspark.sql.types as T\n"
      ],
      "execution_count": 48,
      "outputs": []
    },
    {
      "cell_type": "code",
      "metadata": {
        "id": "an0X12VbRMNj"
      },
      "source": [
        "spark = SparkSession.builder.getOrCreate()"
      ],
      "execution_count": 50,
      "outputs": []
    },
    {
      "cell_type": "code",
      "metadata": {
        "colab": {
          "base_uri": "https://localhost:8080/",
          "height": 222
        },
        "id": "pPQP6l-YRXTT",
        "outputId": "86a43633-447d-4ae5-d10d-b726a069dc97"
      },
      "source": [
        "spark"
      ],
      "execution_count": 51,
      "outputs": [
        {
          "output_type": "execute_result",
          "data": {
            "text/html": [
              "\n",
              "            <div>\n",
              "                <p><b>SparkSession - in-memory</b></p>\n",
              "                \n",
              "        <div>\n",
              "            <p><b>SparkContext</b></p>\n",
              "\n",
              "            <p><a href=\"http://e7f07f95f14c:4040\">Spark UI</a></p>\n",
              "\n",
              "            <dl>\n",
              "              <dt>Version</dt>\n",
              "                <dd><code>v3.1.1</code></dd>\n",
              "              <dt>Master</dt>\n",
              "                <dd><code>local[*]</code></dd>\n",
              "              <dt>AppName</dt>\n",
              "                <dd><code>pyspark-shell</code></dd>\n",
              "            </dl>\n",
              "        </div>\n",
              "        \n",
              "            </div>\n",
              "        "
            ],
            "text/plain": [
              "<pyspark.sql.session.SparkSession at 0x7fe60fcbe750>"
            ]
          },
          "metadata": {
            "tags": []
          },
          "execution_count": 51
        }
      ]
    },
    {
      "cell_type": "code",
      "metadata": {
        "id": "55lzDuinRjbW"
      },
      "source": [
        "df= spark.read.csv(\"/content/crunchbase_odm_orgs.csv.part\", inferSchema=True,header=True,)"
      ],
      "execution_count": 107,
      "outputs": []
    },
    {
      "cell_type": "code",
      "metadata": {
        "colab": {
          "base_uri": "https://localhost:8080/"
        },
        "id": "lRy5ILO7R6vI",
        "outputId": "d8efb024-ccde-414c-c2d5-f8ffd24e551d"
      },
      "source": [
        "df1 = df.withColumnRenamed('(\"name\")', \"rename\").show(5),"
      ],
      "execution_count": 108,
      "outputs": [
        {
          "output_type": "stream",
          "text": [
            "+--------------------+--------+------------+------------+--------------------+------------+--------------------+--------------------+--------------------+--------------------+--------------------+----------------------+----------+----------+------------+--------------------+\n",
            "|                uuid|    name|        type|primary_role|              cb_url|      domain|        homepage_url|            logo_url|        facebook_url|         twitter_url|        linkedin_url|combined_stock_symbols|      city|    region|country_code|   short_description|\n",
            "+--------------------+--------+------------+------------+--------------------+------------+--------------------+--------------------+--------------------+--------------------+--------------------+----------------------+----------+----------+------------+--------------------+\n",
            "|e1393508-30ea-8a3...|Wetpaint|organization|     company|https://www.crunc...|wetpaint.com|http://www.wetpai...|https://res.cloud...|https://www.faceb...|https://twitter.c...|https://www.linke...|                  null|  New York|  New York|         USA|Wetpaint offers a...|\n",
            "|bf4d7b0e-b34d-2fd...|    Zoho|organization|     company|https://www.crunc...|    zoho.com|https://www.zoho....|https://res.cloud...|http://www.facebo...|http://twitter.co...|http://www.linked...|                  null|Pleasanton|California|         USA|Zoho offers a sui...|\n",
            "|5f2b40b8-d1b3-d32...|    Digg|organization|     company|https://www.crunc...|    digg.com| http://www.digg.com|https://res.cloud...|http://www.facebo...|http://twitter.co...|http://www.linked...|                  null|  New York|  New York|         USA|Digg Inc. operate...|\n",
            "|df662812-7f97-0b4...|Facebook|organization|     company|https://www.crunc...|facebook.com|http://www.facebo...|https://res.cloud...|https://www.faceb...|https://twitter.c...|http://www.linked...|             nasdaq:FB|Menlo Park|California|         USA|Facebook is an on...|\n",
            "|b08efc27-da40-505...|   Accel|organization|    investor|https://www.crunc...|   accel.com|http://www.accel.com|https://res.cloud...|http://www.facebo...|http://twitter.co...|https://www.linke...|                  null| Palo Alto|California|         USA|Accel is an early...|\n",
            "+--------------------+--------+------------+------------+--------------------+------------+--------------------+--------------------+--------------------+--------------------+--------------------+----------------------+----------+----------+------------+--------------------+\n",
            "only showing top 5 rows\n",
            "\n"
          ],
          "name": "stdout"
        }
      ]
    },
    {
      "cell_type": "code",
      "metadata": {
        "colab": {
          "base_uri": "https://localhost:8080/"
        },
        "id": "6b6qj7QWSBon",
        "outputId": "132782de-789e-4e43-b9a4-3d19bf7b4f7f"
      },
      "source": [
        "F.col(\"uuid\")\n",
        "F.col(\"cb_url\")\n",
        "F.expr(\"logo_url\")\n"
      ],
      "execution_count": 60,
      "outputs": [
        {
          "output_type": "execute_result",
          "data": {
            "text/plain": [
              "Column<'logo_url'>"
            ]
          },
          "metadata": {
            "tags": []
          },
          "execution_count": 60
        }
      ]
    },
    {
      "cell_type": "code",
      "metadata": {
        "colab": {
          "base_uri": "https://localhost:8080/"
        },
        "id": "cowvsJYRTwji",
        "outputId": "c59c358f-8d1a-4945-d866-2009db6b499d"
      },
      "source": [
        "cb_rdd = df.select('*').rdd.map(lambda row: [str(row[i]) for i in ['uuid','name','domain','facebook_url','domain']])\n",
        "cb_sdf2 = sqlContext.createDataFrame(cb_rdd,['uuid','name','domain','facebook_url','domain'])\n",
        "cb_sdf2.show(50)"
      ],
      "execution_count": 112,
      "outputs": [
        {
          "output_type": "stream",
          "text": [
            "+--------------------+--------------------+--------------------+--------------------+--------------------+\n",
            "|                uuid|                name|              domain|        facebook_url|              domain|\n",
            "+--------------------+--------------------+--------------------+--------------------+--------------------+\n",
            "|e1393508-30ea-8a3...|            Wetpaint|        wetpaint.com|https://www.faceb...|        wetpaint.com|\n",
            "|bf4d7b0e-b34d-2fd...|                Zoho|            zoho.com|http://www.facebo...|            zoho.com|\n",
            "|5f2b40b8-d1b3-d32...|                Digg|            digg.com|http://www.facebo...|            digg.com|\n",
            "|df662812-7f97-0b4...|            Facebook|        facebook.com|https://www.faceb...|        facebook.com|\n",
            "|b08efc27-da40-505...|               Accel|           accel.com|http://www.facebo...|           accel.com|\n",
            "|60485007-8856-bba...|           Omnidrive|       omnidrive.com|http://www.facebo...|       omnidrive.com|\n",
            "|4111dc8b-c0df-2d2...|                Geni|            geni.com|https://www.faceb...|            geni.com|\n",
            "|180ebf67-68d0-231...|             Flektor|         flektor.com|                None|         flektor.com|\n",
            "|d70777cc-14bd-241...|Fox Interactive M...|             fox.com|                None|             fox.com|\n",
            "|5da6106f-0d27-0d3...|             Twitter|         twitter.com|https://www.faceb...|         twitter.com|\n",
            "|3d16cb4c-911e-75c...|         StumbleUpon|     stumbleupon.com|https://www.faceb...|     stumbleupon.com|\n",
            "|56b5f0c1-855f-2eb...|              Gizmoz|          gizmoz.com|                None|          gizmoz.com|\n",
            "|21e77067-5537-408...|              Scribd|          scribd.com|http://www.facebo...|          scribd.com|\n",
            "|ea091a8c-40e0-060...|             Slacker|         slacker.com|http://www.facebo...|         slacker.com|\n",
            "|59fada33-1595-de4...|                Lala|            lala.com|                None|            lala.com|\n",
            "|56e82b22-7466-b00...|               Helio|           helio.com|                None|           helio.com|\n",
            "|e56b0ceb-bb30-bbe...|                eBay|            ebay.com|http://www.facebo...|            ebay.com|\n",
            "|7ac8de1f-61b5-b1e...|              Wis.dm|              wis.dm|                None|              wis.dm|\n",
            "|b528bd22-cce5-c60...|             MeetMoi|         meetmoi.com|                None|         meetmoi.com|\n",
            "|8cb7f859-e757-093...|             Postini|         postini.com|                None|         postini.com|\n",
            "|90e234e5-c045-f85...|               Joost|           joost.com|                None|           joost.com|\n",
            "|3d9e4070-1a25-749...|Hutchison Whampoa...|hutchison-whampoa...|                None|hutchison-whampoa...|\n",
            "|5429709f-5e15-bac...|Li Ka Shing Found...|            lksf.org|http://www.facebo...|            lksf.org|\n",
            "|f09c1228-2e7d-188...|                 CBS|             cbs.com|                None|             cbs.com|\n",
            "|4522b60d-0b04-827...|              Viacom|          viacom.com|http://www.facebo...|          viacom.com|\n",
            "|6ec85818-e24d-478...|            Babelgum|        babelgum.com|                None|        babelgum.com|\n",
            "|91f5ca18-e026-948...|               Plaxo|           plaxo.com|                None|           plaxo.com|\n",
            "|e0906c05-fae5-959...|               Cisco|           cisco.com|http://www.facebo...|           cisco.com|\n",
            "|e25f4821-7be5-0e5...|            Powerset|        powerset.com|                None|        powerset.com|\n",
            "|f43648f4-f341-401...|          Technorati|      technorati.com|http://www.facebo...|      technorati.com|\n",
            "|fc89cfde-a28e-e12...|             AddThis|         addthis.com|http://www.facebo...|         addthis.com|\n",
            "|11352c70-21bb-b54...|               OpenX|           openx.com|http://www.facebo...|           openx.com|\n",
            "|9964e4ba-5128-c82...|              Mahalo|          mahalo.com|https://www.faceb...|          mahalo.com|\n",
            "|93b02047-cfd4-7eb...|             Sparter|         sparter.com|                None|         sparter.com|\n",
            "|9cf1e3e7-eec5-21c...|                Kyte|          kyte.de.tl|                None|          kyte.de.tl|\n",
            "|826a923c-a90c-b01...|             Atomico|         atomico.com|https://www.faceb...|         atomico.com|\n",
            "|1bd1698c-cd0f-37b...|         Time Warner|      timewarner.com|https://www.faceb...|      timewarner.com|\n",
            "|30b3efdf-6024-804...|       Goldman Sachs|    goldmansachs.com|https://www.faceb...|    goldmansachs.com|\n",
            "|dca84eab-ed98-af4...|               Thoof|           thoof.com|                None|           thoof.com|\n",
            "|e867f917-49f4-717...|     Jingle Networks|  jinglenetworks.com|https://www.faceb...|  jinglenetworks.com|\n",
            "|3f2b5885-4257-0d7...|Hearst Communicat...|          hearst.com|https://www.faceb...|          hearst.com|\n",
            "|d0647cec-acb3-9a2...|             STRANDS| finance.strands.com|                None| finance.strands.com|\n",
            "|98cd9691-c7ca-dd2...|    Ning Interactive|            ning.com|                None|            ning.com|\n",
            "|b93d25ff-cf38-929...|            LifeLock|        lifelock.com|http://www.facebo...|        lifelock.com|\n",
            "|697df046-5264-039...|              Wesabe|          wesabe.com|https://www.faceb...|          wesabe.com|\n",
            "|4c8d7754-50b1-a16...| Prosper Marketplace|         prosper.com|http://www.facebo...|         prosper.com|\n",
            "|eef9eab2-4c50-f0a...|             YouTube|         youtube.com|http://www.facebo...|         youtube.com|\n",
            "|e691c0a6-1f9c-8b4...|              blogTV|          blogtv.com|https://www.faceb...|          blogtv.com|\n",
            "|027a72da-6ad5-1e9...|          Livestream|      livestream.com|https://www.faceb...|      livestream.com|\n",
            "|08639f0b-56fd-997...|           Justin.TV|           justin.tv|                None|           justin.tv|\n",
            "+--------------------+--------------------+--------------------+--------------------+--------------------+\n",
            "only showing top 50 rows\n",
            "\n"
          ],
          "name": "stdout"
        }
      ]
    }
  ]
}